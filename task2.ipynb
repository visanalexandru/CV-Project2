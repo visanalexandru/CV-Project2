{
 "cells": [
  {
   "cell_type": "code",
   "execution_count": null,
   "id": "36174217",
   "metadata": {},
   "outputs": [],
   "source": [
    "%load_ext autoreload\n",
    "%autoreload 2"
   ]
  },
  {
   "cell_type": "code",
   "execution_count": null,
   "id": "414f4591",
   "metadata": {},
   "outputs": [],
   "source": [
    "from video import *\n",
    "import numpy as np\n",
    "import ultralytics\n",
    "import cv2 as cv\n",
    "from utils import *\n",
    "from tqdm import tqdm \n",
    "from ultralytics import RTDETR\n",
    "from multiprocessing import Pool"
   ]
  },
  {
   "cell_type": "code",
   "execution_count": null,
   "id": "5f5c73fd",
   "metadata": {},
   "outputs": [],
   "source": [
    "fundamental_matrices = {\n",
    "    \"A\" : {\n",
    "        \"B\": np.load(\"fundamental_matrices/AB.npy\"),\n",
    "        \"C\": np.load(\"fundamental_matrices/AC.npy\"),\n",
    "    },\n",
    "    \"B\": {\n",
    "        \"A\": np.load(\"fundamental_matrices/BA.npy\"),\n",
    "        \"C\": np.load(\"fundamental_matrices/BC.npy\"),\n",
    "    },\n",
    "    \"C\": {\n",
    "        \"B\": np.load(\"fundamental_matrices/CB.npy\"),\n",
    "        \"A\": np.load(\"fundamental_matrices/CA.npy\"),\n",
    "    }\n",
    "}"
   ]
  },
  {
   "cell_type": "code",
   "execution_count": null,
   "id": "49aa6277",
   "metadata": {},
   "outputs": [],
   "source": [
    "homography_matrices = {\n",
    "    \"A\" : {\n",
    "        \"B\": np.load(\"homography_matrices/AB.npy\"),\n",
    "        \"C\": np.load(\"homography_matrices/AC.npy\"),\n",
    "    },\n",
    "    \"B\": {\n",
    "        \"A\": np.load(\"homography_matrices/BA.npy\"),\n",
    "        \"C\": np.load(\"homography_matrices/BC.npy\"),\n",
    "    },\n",
    "    \"C\": {\n",
    "        \"B\": np.load(\"homography_matrices/CB.npy\"),\n",
    "        \"A\": np.load(\"homography_matrices/CA.npy\"),\n",
    "    }\n",
    "}"
   ]
  },
  {
   "cell_type": "code",
   "execution_count": null,
   "id": "58f838ef",
   "metadata": {},
   "outputs": [],
   "source": [
    "video = \"05\""
   ]
  },
  {
   "cell_type": "code",
   "execution_count": null,
   "id": "87ef15c3",
   "metadata": {},
   "outputs": [],
   "source": [
    "if 'query' in globals():\n",
    "    del query\n",
    "if 'reference' in globals():\n",
    "    del reference\n",
    "\n",
    "a = load_video(f\"train/task2/{video}_1.mp4\")\n",
    "b = load_video(f\"train/task2/{video}_2.mp4\")\n",
    "print(a.num_frames())\n",
    "print(b.num_frames())"
   ]
  },
  {
   "cell_type": "code",
   "execution_count": null,
   "id": "ae4f2fa9",
   "metadata": {},
   "outputs": [],
   "source": [
    "def read_box(path):\n",
    "    with open(path, \"r\") as f:\n",
    "        lines = f.readlines()\n",
    "    _, box = lines\n",
    "\n",
    "    box = box.strip()\n",
    "    _index, x1, y1, x2, y2 = list(map(int , box.split(\" \")))\n",
    "    return (x1, y1, x2, y2)"
   ]
  },
  {
   "cell_type": "code",
   "execution_count": null,
   "id": "f9bff148",
   "metadata": {},
   "outputs": [],
   "source": [
    "initial_bbox = read_box(f\"train/task2/{video}_1.txt\")\n",
    "plot = a.get_frame(0).raw().copy()\n",
    "cv.rectangle(plot, initial_bbox[:2], initial_bbox[2:], (0, 255, 0), 2)\n",
    "\n",
    "plt.figure(figsize=(10, 10))\n",
    "plt.title(\"The first bounding box\")\n",
    "plt.imshow(plot)"
   ]
  },
  {
   "cell_type": "code",
   "execution_count": null,
   "id": "d379d3a9",
   "metadata": {},
   "outputs": [],
   "source": [
    "a.do_tracking(visualize=True)\n",
    "b.do_tracking(visualize=True)"
   ]
  },
  {
   "cell_type": "code",
   "execution_count": null,
   "id": "91a2903a",
   "metadata": {},
   "outputs": [],
   "source": [
    "def find_best_intersection(objects, bounding_box, threshold=0.5):\n",
    "    max_iou = 0\n",
    "    best = None\n",
    "\n",
    "    for object in objects:\n",
    "        bb = object[\"bbox\"] \n",
    "\n",
    "        iou = bb_intersection_over_union(bb, bounding_box)\n",
    "        if iou > threshold and iou > max_iou:\n",
    "            best = object\n",
    "            max_iou = iou\n",
    "\n",
    "    return best "
   ]
  },
  {
   "cell_type": "code",
   "execution_count": null,
   "id": "749cb778",
   "metadata": {},
   "outputs": [],
   "source": [
    "def find_closest_object(objects, position, threshold=100):\n",
    "    min_distance = np.inf\n",
    "    best = None\n",
    "\n",
    "    for object in objects:\n",
    "        bb = object[\"bbox\"]\n",
    "        center= bounding_box_center(bb) \n",
    "        distance = np.linalg.norm(np.array(center) - np.array(position))\n",
    "\n",
    "        if distance< threshold and distance < min_distance:\n",
    "            best = object\n",
    "            min_distance = distance\n",
    "    return best"
   ]
  },
  {
   "cell_type": "code",
   "execution_count": null,
   "id": "454f6ed8",
   "metadata": {},
   "outputs": [],
   "source": [
    "kalman = cv.KalmanFilter(8, 4)\n",
    "kalman.measurementMatrix = np.array(\n",
    "            [[1, 0, 0, 0, 0, 0, 0, 0],\n",
    "             [0, 1, 0, 0, 0, 0, 0, 0],\n",
    "             [0, 0, 1, 0, 0, 0, 0, 0],\n",
    "             [0, 0, 0, 1, 0, 0, 0, 0],\n",
    "             ], np.float32)\n",
    "\n",
    "kalman.transitionMatrix = np.array(\n",
    "            [[1, 0, 0, 0, 1, 0, 0, 0],\n",
    "             [0, 1, 0, 0, 0, 1, 0, 0],\n",
    "             [0, 0, 1, 0, 0, 0, 1, 0],\n",
    "             [0, 0, 0, 1, 0, 0, 0, 1],\n",
    "             [0, 0, 0, 0, 1, 0, 0, 0],\n",
    "             [0, 0, 0, 0, 0, 1, 0, 0],\n",
    "             [0, 0, 0, 0, 0, 0, 1, 0],\n",
    "             [0, 0, 0, 0, 0, 0, 0, 1]\n",
    "            ], np.float32)\n",
    "\n",
    "kalman.processNoiseCov = np.eye(8, dtype=np.float32) * 0.01\n",
    "\n",
    "kalman.measurementNoiseCov = np.array(\n",
    "            [[30, 0, 0, 0],\n",
    "             [0, 30, 0, 0],\n",
    "             [0, 0, 200, 0],\n",
    "             [0, 0, 0, 200]], np.float32)\n",
    "\n",
    "kalman.statePre = np.array([[initial_bbox[0]],\n",
    "                            [initial_bbox[1]],\n",
    "                            [initial_bbox[2] - initial_bbox[0]],\n",
    "                            [initial_bbox[3] - initial_bbox[1]],\n",
    "                            [0],\n",
    "                            [0],\n",
    "                            [0],\n",
    "                            [0]], np.float32)\n",
    "\n",
    "kalman.statePost = np.array([[initial_bbox[0]],\n",
    "                            [initial_bbox[1]],\n",
    "                            [initial_bbox[2] - initial_bbox[0]],\n",
    "                            [initial_bbox[3] - initial_bbox[1]],\n",
    "                            [0],\n",
    "                            [0],\n",
    "                            [0],\n",
    "                            [0]], np.float32)\n",
    "\n",
    "for frame_index in range(0, a.num_frames()):\n",
    "    frame = a.get_frame(frame_index)\n",
    "    plot = frame.raw().copy()\n",
    "    objects = frame.objects()\n",
    "\n",
    "    for object in objects:\n",
    "        cv.rectangle(plot, object[\"bbox\"][:2], object[\"bbox\"][2:], (0, 255, 0), 2)\n",
    "\n",
    "    prediction = kalman.predict()[:4].flatten().astype(np.int32)\n",
    "    prediction = (prediction[0], prediction[1], prediction[0] + prediction[2], prediction[1] + prediction[3])\n",
    "\n",
    "    # Proritize finding the best intersection with existing objects\n",
    "    best_intersection = find_best_intersection(objects, prediction, threshold=0.3)\n",
    "\n",
    "    found = None \n",
    "    if best_intersection is not None:\n",
    "        found = best_intersection[\"bbox\"]\n",
    "    else:\n",
    "        # If that fails, find the closest pbject.\n",
    "        center = bounding_box_center(prediction)\n",
    "        closest_object = find_closest_object(objects, center, threshold=50)\n",
    "        if closest_object is not None:\n",
    "            found = closest_object[\"bbox\"]\n",
    "\n",
    "    if found:\n",
    "        kalman.correct(np.array([[found[0]], [found[1]], [found[2] - found[0]], [found[3] - found[1]]], np.float32))\n",
    "\n",
    "    cv.rectangle(plot, prediction[:2], prediction[2:], (255, 0, 0), 2)\n",
    "    cv.imshow(\"tracking\", plot)\n",
    "    cv.waitKey(100)\n",
    "\n",
    "cv.destroyAllWindows()"
   ]
  }
 ],
 "metadata": {
  "kernelspec": {
   "display_name": ".venv",
   "language": "python",
   "name": "python3"
  },
  "language_info": {
   "codemirror_mode": {
    "name": "ipython",
    "version": 3
   },
   "file_extension": ".py",
   "mimetype": "text/x-python",
   "name": "python",
   "nbconvert_exporter": "python",
   "pygments_lexer": "ipython3",
   "version": "3.12.3"
  }
 },
 "nbformat": 4,
 "nbformat_minor": 5
}
